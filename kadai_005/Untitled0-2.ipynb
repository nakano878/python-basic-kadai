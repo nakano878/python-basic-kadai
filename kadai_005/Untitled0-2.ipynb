{
  "cells": [
    {
      "cell_type": "code",
      "execution_count": null,
      "metadata": {
        "colab": {
          "base_uri": "https://localhost:8080/"
        },
        "id": "wH1ELq5rG1G_",
        "outputId": "b64a629e-6e2d-4842-d834-31e51f6aae55"
      },
      "outputs": [],
      "source": [
        "top_line = 10\n",
        "under_line = 20\n",
        "hight_line = 5\n",
        "\n",
        "area = (top_line + under_line) * hight_line / 2\n",
        "print(str(area) + \"cm²\" )"
      ]
    }
  ],
  "metadata": {
    "colab": {
      "provenance": []
    },
    "kernelspec": {
      "display_name": "Python 3",
      "name": "python3"
    },
    "language_info": {
      "name": "python"
    }
  },
  "nbformat": 4,
  "nbformat_minor": 0
}
