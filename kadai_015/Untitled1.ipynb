{
  "nbformat": 4,
  "nbformat_minor": 0,
  "metadata": {
    "colab": {
      "provenance": []
    },
    "kernelspec": {
      "name": "python3",
      "display_name": "Python 3"
    },
    "language_info": {
      "name": "python"
    }
  },
  "cells": [
    {
      "cell_type": "code",
      "execution_count": 1,
      "metadata": {
        "colab": {
          "base_uri": "https://localhost:8080/"
        },
        "id": "f9jorKrWMxuH",
        "outputId": "2471491f-2a1f-4fca-fb3a-97a619c40d62"
      },
      "outputs": [
        {
          "output_type": "stream",
          "name": "stdout",
          "text": [
            "侍太郎 30\n"
          ]
        }
      ],
      "source": [
        "class Human:\n",
        "  def __init__(self, name, age):\n",
        "    self.name = name\n",
        "    self.age  = age\n",
        "  def printinfo(self):\n",
        "    print(self.name, self.age)\n",
        "human = Human(\"侍太郎\", 30)\n",
        "\n",
        "human.printinfo()"
      ]
    }
  ]
}