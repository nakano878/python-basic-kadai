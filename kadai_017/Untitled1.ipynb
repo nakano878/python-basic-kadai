{
  "nbformat": 4,
  "nbformat_minor": 0,
  "metadata": {
    "colab": {
      "provenance": []
    },
    "kernelspec": {
      "name": "python3",
      "display_name": "Python 3"
    },
    "language_info": {
      "name": "python"
    }
  },
  "cells": [
    {
      "cell_type": "code",
      "execution_count": 1,
      "metadata": {
        "colab": {
          "base_uri": "https://localhost:8080/"
        },
        "id": "f9jorKrWMxuH",
        "outputId": "6d54dec8-1d9b-4910-a74f-7de466bd9630"
      },
      "outputs": [
        {
          "output_type": "stream",
          "name": "stdout",
          "text": [
            "侍太郎は大人です。\n",
            "侍花子は大人ではありません。\n",
            "侍二郎は大人です。\n"
          ]
        }
      ],
      "source": [
        "class Human:\n",
        "  def __init__(self, name, age):\n",
        "    self.name = name\n",
        "    self.age = age\n",
        "  def check_adult(self):\n",
        "    if self.age >= 20:\n",
        "      print(f\"{self.name}は大人です。\")\n",
        "    else:\n",
        "      print(f\"{self.name}は大人ではありません。\")\n",
        "\n",
        "humans = [Human(\"侍太郎\", 30), Human(\"侍花子\", 15), Human(\"侍二郎\", 25)]\n",
        "\n",
        "for human in humans:\n",
        "  human.check_adult()\n"
      ]
    }
  ]
}