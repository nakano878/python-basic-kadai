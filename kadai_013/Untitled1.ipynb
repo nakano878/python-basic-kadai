{
  "nbformat": 4,
  "nbformat_minor": 0,
  "metadata": {
    "colab": {
      "provenance": []
    },
    "kernelspec": {
      "name": "python3",
      "display_name": "Python 3"
    },
    "language_info": {
      "name": "python"
    }
  },
  "cells": [
    {
      "cell_type": "code",
      "execution_count": 1,
      "metadata": {
        "colab": {
          "base_uri": "https://localhost:8080/"
        },
        "id": "f9jorKrWMxuH",
        "outputId": "c81b1d4a-62b9-45ed-fa2e-fea99b0549de"
      },
      "outputs": [
        {
          "output_type": "stream",
          "name": "stdout",
          "text": [
            "121.0\n"
          ]
        }
      ],
      "source": [
        "def add_two_arguments(price,shipping_free):\n",
        "  total = price + price * shipping_free /100\n",
        "  print(total)\n",
        "\n",
        "add_two_arguments(110,10)"
      ]
    }
  ]
}